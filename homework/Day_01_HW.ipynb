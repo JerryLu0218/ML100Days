{
 "cells": [
  {
   "cell_type": "markdown",
   "metadata": {
    "id": "P6xk2_jLsvFF"
   },
   "source": [
    "# [作業目標]\n",
    "\n",
    "1. [簡答題] 請問下列兩種將 Array 轉換成 List 的方式有何不同？\n",
    "\n",
    "```\n",
    "print('list(a): ', list(a))\n",
    "print('tolist(): ', a.tolist())\n",
    "```\n",
    "\n",
    "2. 請試著在程式中印出以下三個 NdArray 的屬性？（屬性：ndim、shape、size、dtype、itemsize、length、type）\n",
    "\n",
    "```\n",
    "a = np.random.randint(10, size=6) \n",
    "b = np.random.randint(10, size=(3,4)) \n",
    "c = np.random.randint(10, size=(2,3,2)) \n",
    "```\n",
    "\n",
    "3. 如何利用 list(...) 實現 a.tolist() 的效果？試著用程式實作。\n"
   ]
  },
  {
   "cell_type": "markdown",
   "metadata": {
    "id": "uXGll28asvFS"
   },
   "source": [
    "# 作業 "
   ]
  },
  {
   "cell_type": "markdown",
   "metadata": {
    "id": "SYkvkp9YLwB7"
   },
   "source": [
    "### 1. [簡答題] 請問下列兩種將 Array 轉換成 List 的方式有何不同？\n",
    "\n",
    "```\n",
    "print('list(a): ', list(a))\n",
    "print('tolist(): ', a.tolist())\n",
    "```\n"
   ]
  },
  {
   "cell_type": "code",
   "execution_count": 6,
   "metadata": {
    "id": "5QrYoyNWsvFS",
    "outputId": "13f374d0-6f1b-47aa-bbac-c7d1a8c6995c"
   },
   "outputs": [
    {
     "name": "stdout",
     "output_type": "stream",
     "text": [
      "[[ 0  1  2  3  4]\n",
      " [ 5  6  7  8  9]\n",
      " [10 11 12 13 14]]\n",
      "list(a):  [array([0, 1, 2, 3, 4]), array([5, 6, 7, 8, 9]), array([10, 11, 12, 13, 14])]\n",
      "list(a):  <class 'numpy.ndarray'> list只處理最外層(第一維)，剩下都還是numpy\n",
      "tolist():  [[0, 1, 2, 3, 4], [5, 6, 7, 8, 9], [10, 11, 12, 13, 14]]\n",
      "tolist():  <class 'list'> tolist是直接轉換成list\n"
     ]
    }
   ],
   "source": [
    "import numpy as np\n",
    "a = np.arange(15).reshape(3, 5)\n",
    "print(a)\n",
    "\n",
    "print('list(a): ', list(a))\n",
    "print('list(a): ', type(list(a)[0]),'list只處理最外層(第一維)，剩下都還是numpy')\n",
    "print('tolist(): ', a.tolist())\n",
    "print('tolist(): ', type(a.tolist()[0]),'tolist是直接轉換成list')"
   ]
  },
  {
   "cell_type": "markdown",
   "metadata": {
    "id": "AC9wUCyALwB9"
   },
   "source": [
    "### 2. 請試著在程式中印出以下三個 NdArray 的屬性並且解釋結果？（屬性：ndim、shape、size、dtype、itemsize、length、type）\n",
    "\n",
    "```\n",
    "a = np.random.randint(10, size=6) \n",
    "b = np.random.randint(10, size=(3,4)) \n",
    "c = np.random.randint(10, size=(2,3,2)) \n",
    "```"
   ]
  },
  {
   "cell_type": "code",
   "execution_count": null,
   "metadata": {
    "id": "4qARRsdtLwB-"
   },
   "outputs": [],
   "source": [
    "# 記得先 Import 正確的套件\n",
    "\n",
    "'''\n",
    "Your Code\n",
    "'''"
   ]
  },
  {
   "cell_type": "code",
   "execution_count": 7,
   "metadata": {
    "id": "e1gVI0tvsvFY",
    "outputId": "9be10770-9042-40c8-c4bc-217b84be9fc9"
   },
   "outputs": [
    {
     "name": "stdout",
     "output_type": "stream",
     "text": [
      "ndim： 1\n",
      "shape： (6,)\n",
      "size： 6\n",
      "dtype： int32\n",
      "itemsize： 4\n",
      "data： <memory at 0x000001F0BB302E00>\n",
      "sum： 41\n"
     ]
    }
   ],
   "source": [
    "a = np.random.randint(10, size=6) \n",
    "print('ndim：',a.ndim)      # 確認維度\n",
    "print('shape：',a.shape)    # 維度大小 \n",
    "print('size：',a.size)      # 幾個元素\n",
    "print('dtype：',a.dtype)    # 資料型態\n",
    "print('itemsize：',a.itemsize)  # 每個元素佔的記憶體空間\n",
    "print('data：',a.data)      # 記憶體位置\n",
    "print('sum：',a.sum())      # 所有元素總和"
   ]
  },
  {
   "cell_type": "code",
   "execution_count": 8,
   "metadata": {
    "id": "iIJrIr7kLwB_",
    "outputId": "083c5519-394c-404e-9764-100c4ed5118a"
   },
   "outputs": [
    {
     "name": "stdout",
     "output_type": "stream",
     "text": [
      "ndim： 2\n",
      "shape： (3, 4)\n",
      "size： 12\n",
      "dtype： int32\n",
      "itemsize： 4\n",
      "data： <memory at 0x000001F0AFE99B10>\n",
      "sum： 42\n"
     ]
    }
   ],
   "source": [
    "b = np.random.randint(10, size=(3,4)) \n",
    "\n",
    "print('ndim：',b.ndim)      # 確認維度\n",
    "print('shape：',b.shape)    # 維度大小 \n",
    "print('size：',b.size)      # 幾個元素\n",
    "print('dtype：',b.dtype)    # 資料型態\n",
    "print('itemsize：',b.itemsize)  # 每個元素佔的記憶體空間\n",
    "print('data：',b.data)      # 記憶體位置\n",
    "print('sum：',b.sum())      # 所有元素總和"
   ]
  },
  {
   "cell_type": "code",
   "execution_count": 9,
   "metadata": {
    "id": "98SRFh_FLwCC",
    "outputId": "dc65dfac-9ae6-49d2-f854-88eccebc2aac"
   },
   "outputs": [
    {
     "name": "stdout",
     "output_type": "stream",
     "text": [
      "ndim： 3\n",
      "shape： (2, 3, 2)\n",
      "size： 12\n",
      "dtype： int32\n",
      "itemsize： 4\n",
      "data： <memory at 0x000001F0AFA558A0>\n",
      "sum： 60\n"
     ]
    }
   ],
   "source": [
    "c = np.random.randint(10, size=(2,3,2)) \n",
    "\n",
    "print('ndim：',c.ndim)      # 確認維度\n",
    "print('shape：',c.shape)    # 維度大小 \n",
    "print('size：',c.size)      # 幾個元素\n",
    "print('dtype：',c.dtype)    # 資料型態\n",
    "print('itemsize：',c.itemsize)  # 每個元素佔的記憶體空間\n",
    "print('data：',c.data)      # 記憶體位置\n",
    "print('sum：',c.sum())      # 所有元素總和"
   ]
  },
  {
   "cell_type": "markdown",
   "metadata": {
    "id": "Uf6zC0QZLwCE"
   },
   "source": [
    "### 3. 如何利用 list(...) 實現 a.tolist() 的效果？試著用程式實作。\n"
   ]
  },
  {
   "cell_type": "code",
   "execution_count": 10,
   "metadata": {
    "id": "sCUzHu_BLwCF",
    "outputId": "ba9c8945-8efb-42b1-f978-2bbdda97accd"
   },
   "outputs": [
    {
     "name": "stdout",
     "output_type": "stream",
     "text": [
      "[5, 5, 9, 5, 9, 4]\n",
      "[5, 5, 9, 5, 9, 4]\n"
     ]
    }
   ],
   "source": [
    "a = np.random.randint(10, size=6) \n",
    "\n",
    "print(a.tolist())\n",
    "print(list(a))\n"
   ]
  },
  {
   "cell_type": "code",
   "execution_count": 11,
   "metadata": {
    "id": "IUkVtw8RLwCG",
    "outputId": "e39875a5-5ec7-431b-c12a-485acc167e44"
   },
   "outputs": [
    {
     "name": "stdout",
     "output_type": "stream",
     "text": [
      "[[7, 7, 6, 6], [5, 0, 2, 9], [6, 6, 9, 3]]\n",
      "[array([7, 7, 6, 6]), array([5, 0, 2, 9]), array([6, 6, 9, 3])]\n"
     ]
    }
   ],
   "source": [
    "b = np.random.randint(10, size=(3,4)) \n",
    "\n",
    "print(b.tolist())\n",
    "print(list(b))"
   ]
  },
  {
   "cell_type": "code",
   "execution_count": 14,
   "metadata": {
    "id": "NPhF8_CqLwCG",
    "outputId": "51fab908-5bfd-415f-9584-92bb376648c8"
   },
   "outputs": [
    {
     "name": "stdout",
     "output_type": "stream",
     "text": [
      "[[[7, 6], [9, 5], [6, 1]], [[2, 8], [8, 5], [2, 2]]]\n",
      "[array([[7, 6],\n",
      "       [9, 5],\n",
      "       [6, 1]]), array([[2, 8],\n",
      "       [8, 5],\n",
      "       [2, 2]])]\n"
     ]
    }
   ],
   "source": [
    "c = np.random.randint(10, size=(2,3,2)) \n",
    "\n",
    "print(c.tolist())\n",
    "print(list(c))\n"
   ]
  },
  {
   "cell_type": "code",
   "execution_count": 31,
   "metadata": {
    "id": "3Hc8vQYtLwCH",
    "outputId": "1290bc93-84ca-4da4-eb1a-315da37afaff"
   },
   "outputs": [
    {
     "name": "stdout",
     "output_type": "stream",
     "text": [
      "[5, 5, 9, 5, 9, 4]\n",
      "<class 'numpy.int32'>\n",
      "[[7, 7, 6, 6], [5, 0, 2, 9], [6, 6, 9, 3]]\n",
      "<class 'list'>\n",
      "[[[7, 6], [9, 5], [6, 1]], [[2, 8], [8, 5], [2, 2]]]\n",
      "<class 'list'>\n"
     ]
    }
   ],
   "source": [
    "def tolist(iterable):\n",
    "    if iterable.ndim == 1:\n",
    "        return list(iterable)\n",
    "    else:\n",
    "        return iterable.tolist()\n",
    "    \n",
    "\n",
    "print(tolist(a))\n",
    "print(type(tolist(a)[0]))\n",
    "print(tolist(b))\n",
    "print(type(tolist(b)[0]))\n",
    "print(tolist(c))\n",
    "print(type(tolist(c)[0]))"
   ]
  },
  {
   "cell_type": "code",
   "execution_count": null,
   "metadata": {
    "id": "640whg6NLwCK"
   },
   "outputs": [],
   "source": []
  }
 ],
 "metadata": {
  "colab": {
   "name": "01Homework_維元.ipynb",
   "provenance": []
  },
  "kernelspec": {
   "display_name": "Python 3",
   "language": "python",
   "name": "python3"
  },
  "language_info": {
   "codemirror_mode": {
    "name": "ipython",
    "version": 3
   },
   "file_extension": ".py",
   "mimetype": "text/x-python",
   "name": "python",
   "nbconvert_exporter": "python",
   "pygments_lexer": "ipython3",
   "version": "3.10.11"
  }
 },
 "nbformat": 4,
 "nbformat_minor": 0
}
