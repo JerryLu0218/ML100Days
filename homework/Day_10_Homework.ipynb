{
 "cells": [
  {
   "cell_type": "markdown",
   "metadata": {
    "colab_type": "text",
    "id": "P6xk2_jLsvFF"
   },
   "source": [
    "# [作業目標]\n",
    "\n",
    "1. [簡答題] 請問下列四種不同的 DataFrame 選取結果有什麼差異？\n",
    "\n",
    "```\n",
    "df.loc[ '2013-01-01', 'A'] \n",
    "df.loc[ '2013-01-01', ['A', 'B'] ] \n",
    "df.loc[ '2013-01-01':'2013-01-02', 'A' ] \n",
    "df.loc[ '2013-01-01':'2013-01-05', 'A':'C'] \n",
    "```\n",
    "\n",
    "\n",
    "2. 請根據提供的資料，選擇出下列的要求：\n",
    "\n",
    "```\n",
    "# - select the first 3 rows.\n",
    "# - select the odd rows. (index = 1, 3, 5)\n",
    "# - select the last 2 columns.\n",
    "# - select the even columns. (index = 0, 2, 4)\n",
    "```\n",
    "\n",
    "3. 請根據提供的資料，選擇出下列的要求：\n",
    "\n",
    "```\n",
    "# - 1. filtered by first column > 20?\n",
    "# - 2. filtered by first column + second column > 50\n",
    "# - 3. filtered by first column < 30 or second column > 30\n",
    "# - 4. filtered by total sum of row > 100\n",
    "```"
   ]
  },
  {
   "cell_type": "markdown",
   "metadata": {
    "colab_type": "text",
    "id": "uXGll28asvFS"
   },
   "source": [
    "# 作業 "
   ]
  },
  {
   "cell_type": "markdown",
   "metadata": {},
   "source": [
    "### 1. [簡答題] 請問下列四種不同的 DataFrame 選取結果有什麼差異？\n",
    "\n",
    "```\n",
    "df.loc[ '2013-01-01', 'A'] \n",
    "df.loc[ '2013-01-01', ['A', 'B'] ] \n",
    "df.loc[ '2013-01-01':'2013-01-02', 'A' ] \n",
    "df.loc[ '2013-01-01':'2013-01-05', 'A':'C'] \n",
    "```\n",
    "\n",
    "\n",
    "\n"
   ]
  },
  {
   "cell_type": "code",
   "execution_count": 1,
   "metadata": {
    "colab": {},
    "colab_type": "code",
    "id": "5QrYoyNWsvFS"
   },
   "outputs": [
    {
     "data": {
      "text/plain": [
       "\"\\ndf.loc[ '2013-01-01', 'A']\\n單一值\\n\\ndf.loc[ '2013-01-01', ['A', 'B'] ] \\n一維資料pandas.Series\\n\\ndf.loc[ '2013-01-01':'2013-01-02', 'A' ]\\n一維資料pandas.Series \\n\\ndf.loc[ '2013-01-01':'2013-01-05', 'A':'C'] \\n二維資料pandas.DateFrame\\n\""
      ]
     },
     "execution_count": 1,
     "metadata": {},
     "output_type": "execute_result"
    }
   ],
   "source": [
    "'''\n",
    "df.loc[ '2013-01-01', 'A']\n",
    "單一值\n",
    "\n",
    "df.loc[ '2013-01-01', ['A', 'B'] ] \n",
    "一維資料pandas.Series\n",
    "\n",
    "df.loc[ '2013-01-01':'2013-01-02', 'A' ]\n",
    "一維資料pandas.Series \n",
    "\n",
    "df.loc[ '2013-01-01':'2013-01-05', 'A':'C'] \n",
    "二維資料pandas.DateFrame\n",
    "'''"
   ]
  },
  {
   "cell_type": "markdown",
   "metadata": {},
   "source": [
    "### 2. 請根據提供的資料，選擇出下列的要求：\n",
    "\n",
    "```\n",
    "# - select the first 3 rows.\n",
    "# - select the odd rows. (index = 1, 3, 5)\n",
    "# - select the last 2 columns.\n",
    "# - select the even columns. (index = 0, 2, 4)\n",
    "```\n"
   ]
  },
  {
   "cell_type": "code",
   "execution_count": 2,
   "metadata": {},
   "outputs": [],
   "source": [
    "# 記得先 Import 正確的套件\n",
    "\n",
    "import numpy as np\n",
    "import pandas as pd\n"
   ]
  },
  {
   "cell_type": "code",
   "execution_count": 3,
   "metadata": {
    "colab": {},
    "colab_type": "code",
    "id": "e1gVI0tvsvFY"
   },
   "outputs": [
    {
     "data": {
      "text/html": [
       "<div>\n",
       "<style scoped>\n",
       "    .dataframe tbody tr th:only-of-type {\n",
       "        vertical-align: middle;\n",
       "    }\n",
       "\n",
       "    .dataframe tbody tr th {\n",
       "        vertical-align: top;\n",
       "    }\n",
       "\n",
       "    .dataframe thead th {\n",
       "        text-align: right;\n",
       "    }\n",
       "</style>\n",
       "<table border=\"1\" class=\"dataframe\">\n",
       "  <thead>\n",
       "    <tr style=\"text-align: right;\">\n",
       "      <th></th>\n",
       "      <th>col1</th>\n",
       "      <th>col2</th>\n",
       "      <th>col3</th>\n",
       "    </tr>\n",
       "  </thead>\n",
       "  <tbody>\n",
       "    <tr>\n",
       "      <th>0</th>\n",
       "      <td>-0.262038</td>\n",
       "      <td>0.411120</td>\n",
       "      <td>0.097283</td>\n",
       "    </tr>\n",
       "    <tr>\n",
       "      <th>1</th>\n",
       "      <td>1.382635</td>\n",
       "      <td>0.657997</td>\n",
       "      <td>0.145937</td>\n",
       "    </tr>\n",
       "    <tr>\n",
       "      <th>2</th>\n",
       "      <td>0.876540</td>\n",
       "      <td>-0.778044</td>\n",
       "      <td>0.232627</td>\n",
       "    </tr>\n",
       "    <tr>\n",
       "      <th>3</th>\n",
       "      <td>-0.889300</td>\n",
       "      <td>-0.306598</td>\n",
       "      <td>-1.892760</td>\n",
       "    </tr>\n",
       "    <tr>\n",
       "      <th>4</th>\n",
       "      <td>-0.655857</td>\n",
       "      <td>0.623020</td>\n",
       "      <td>1.807230</td>\n",
       "    </tr>\n",
       "    <tr>\n",
       "      <th>5</th>\n",
       "      <td>-0.227245</td>\n",
       "      <td>0.057481</td>\n",
       "      <td>0.108691</td>\n",
       "    </tr>\n",
       "  </tbody>\n",
       "</table>\n",
       "</div>"
      ],
      "text/plain": [
       "       col1      col2      col3\n",
       "0 -0.262038  0.411120  0.097283\n",
       "1  1.382635  0.657997  0.145937\n",
       "2  0.876540 -0.778044  0.232627\n",
       "3 -0.889300 -0.306598 -1.892760\n",
       "4 -0.655857  0.623020  1.807230\n",
       "5 -0.227245  0.057481  0.108691"
      ]
     },
     "execution_count": 3,
     "metadata": {},
     "output_type": "execute_result"
    }
   ],
   "source": [
    "df = pd.DataFrame(np.random.randn(6,3),columns=['col1','col2','col3'])\n",
    "df"
   ]
  },
  {
   "cell_type": "code",
   "execution_count": 4,
   "metadata": {},
   "outputs": [
    {
     "name": "stdout",
     "output_type": "stream",
     "text": [
      "       col1      col2      col3\n",
      "0 -0.262038  0.411120  0.097283\n",
      "1  1.382635  0.657997  0.145937\n",
      "2  0.876540 -0.778044  0.232627\n",
      "       col1      col2      col3\n",
      "0 -0.262038  0.411120  0.097283\n",
      "1  1.382635  0.657997  0.145937\n",
      "2  0.876540 -0.778044  0.232627\n"
     ]
    }
   ],
   "source": [
    "print(df[0:3])\n",
    "print(df.head(3))"
   ]
  },
  {
   "cell_type": "code",
   "execution_count": 5,
   "metadata": {},
   "outputs": [
    {
     "name": "stdout",
     "output_type": "stream",
     "text": [
      "       col1      col2      col3\n",
      "1  1.382635  0.657997  0.145937\n",
      "3 -0.889300 -0.306598 -1.892760\n",
      "5 -0.227245  0.057481  0.108691\n",
      "       col1      col2      col3\n",
      "1  1.382635  0.657997  0.145937\n",
      "3 -0.889300 -0.306598 -1.892760\n",
      "5 -0.227245  0.057481  0.108691\n"
     ]
    }
   ],
   "source": [
    "print(df[1::2])\n",
    "print(df[df.index % 2 == 1])"
   ]
  },
  {
   "cell_type": "code",
   "execution_count": 6,
   "metadata": {},
   "outputs": [
    {
     "name": "stdout",
     "output_type": "stream",
     "text": [
      "       col2      col3\n",
      "0  0.411120  0.097283\n",
      "1  0.657997  0.145937\n",
      "2 -0.778044  0.232627\n",
      "3 -0.306598 -1.892760\n",
      "4  0.623020  1.807230\n",
      "5  0.057481  0.108691\n",
      "       col2      col3\n",
      "0  0.411120  0.097283\n",
      "1  0.657997  0.145937\n",
      "2 -0.778044  0.232627\n",
      "3 -0.306598 -1.892760\n",
      "4  0.623020  1.807230\n",
      "5  0.057481  0.108691\n"
     ]
    }
   ],
   "source": [
    "print(df.iloc[:,-2:])\n",
    "print(df[['col2','col3']])"
   ]
  },
  {
   "cell_type": "code",
   "execution_count": 8,
   "metadata": {},
   "outputs": [
    {
     "name": "stdout",
     "output_type": "stream",
     "text": [
      "       col1      col2      col3\n",
      "0 -0.262038  0.411120  0.097283\n",
      "2  0.876540 -0.778044  0.232627\n",
      "4 -0.655857  0.623020  1.807230\n"
     ]
    }
   ],
   "source": [
    "print(df.iloc[::2])\n"
   ]
  },
  {
   "cell_type": "markdown",
   "metadata": {},
   "source": [
    "### 3. 請根據提供的資料，選擇出下列的要求：\n",
    "\n",
    "```\n",
    "# - 1. filtered by first column > 20?\n",
    "# - 2. filtered by first column + second column > 50\n",
    "# - 3. filtered by first column < 30 or second column > 30\n",
    "# - 4. filtered by total sum of row > 100\n",
    "```"
   ]
  },
  {
   "cell_type": "code",
   "execution_count": 9,
   "metadata": {},
   "outputs": [
    {
     "data": {
      "text/html": [
       "<div>\n",
       "<style scoped>\n",
       "    .dataframe tbody tr th:only-of-type {\n",
       "        vertical-align: middle;\n",
       "    }\n",
       "\n",
       "    .dataframe tbody tr th {\n",
       "        vertical-align: top;\n",
       "    }\n",
       "\n",
       "    .dataframe thead th {\n",
       "        text-align: right;\n",
       "    }\n",
       "</style>\n",
       "<table border=\"1\" class=\"dataframe\">\n",
       "  <thead>\n",
       "    <tr style=\"text-align: right;\">\n",
       "      <th></th>\n",
       "      <th>0</th>\n",
       "      <th>1</th>\n",
       "      <th>2</th>\n",
       "      <th>3</th>\n",
       "    </tr>\n",
       "  </thead>\n",
       "  <tbody>\n",
       "    <tr>\n",
       "      <th>0</th>\n",
       "      <td>25</td>\n",
       "      <td>29</td>\n",
       "      <td>19</td>\n",
       "      <td>37</td>\n",
       "    </tr>\n",
       "    <tr>\n",
       "      <th>1</th>\n",
       "      <td>38</td>\n",
       "      <td>16</td>\n",
       "      <td>17</td>\n",
       "      <td>22</td>\n",
       "    </tr>\n",
       "    <tr>\n",
       "      <th>2</th>\n",
       "      <td>14</td>\n",
       "      <td>10</td>\n",
       "      <td>12</td>\n",
       "      <td>37</td>\n",
       "    </tr>\n",
       "    <tr>\n",
       "      <th>3</th>\n",
       "      <td>24</td>\n",
       "      <td>27</td>\n",
       "      <td>17</td>\n",
       "      <td>22</td>\n",
       "    </tr>\n",
       "    <tr>\n",
       "      <th>4</th>\n",
       "      <td>39</td>\n",
       "      <td>15</td>\n",
       "      <td>33</td>\n",
       "      <td>23</td>\n",
       "    </tr>\n",
       "    <tr>\n",
       "      <th>5</th>\n",
       "      <td>26</td>\n",
       "      <td>32</td>\n",
       "      <td>38</td>\n",
       "      <td>26</td>\n",
       "    </tr>\n",
       "    <tr>\n",
       "      <th>6</th>\n",
       "      <td>19</td>\n",
       "      <td>26</td>\n",
       "      <td>13</td>\n",
       "      <td>13</td>\n",
       "    </tr>\n",
       "    <tr>\n",
       "      <th>7</th>\n",
       "      <td>20</td>\n",
       "      <td>18</td>\n",
       "      <td>26</td>\n",
       "      <td>16</td>\n",
       "    </tr>\n",
       "    <tr>\n",
       "      <th>8</th>\n",
       "      <td>14</td>\n",
       "      <td>22</td>\n",
       "      <td>28</td>\n",
       "      <td>32</td>\n",
       "    </tr>\n",
       "    <tr>\n",
       "      <th>9</th>\n",
       "      <td>13</td>\n",
       "      <td>27</td>\n",
       "      <td>16</td>\n",
       "      <td>16</td>\n",
       "    </tr>\n",
       "    <tr>\n",
       "      <th>10</th>\n",
       "      <td>30</td>\n",
       "      <td>33</td>\n",
       "      <td>27</td>\n",
       "      <td>35</td>\n",
       "    </tr>\n",
       "    <tr>\n",
       "      <th>11</th>\n",
       "      <td>15</td>\n",
       "      <td>12</td>\n",
       "      <td>10</td>\n",
       "      <td>30</td>\n",
       "    </tr>\n",
       "    <tr>\n",
       "      <th>12</th>\n",
       "      <td>30</td>\n",
       "      <td>25</td>\n",
       "      <td>24</td>\n",
       "      <td>36</td>\n",
       "    </tr>\n",
       "    <tr>\n",
       "      <th>13</th>\n",
       "      <td>29</td>\n",
       "      <td>24</td>\n",
       "      <td>18</td>\n",
       "      <td>26</td>\n",
       "    </tr>\n",
       "    <tr>\n",
       "      <th>14</th>\n",
       "      <td>34</td>\n",
       "      <td>26</td>\n",
       "      <td>21</td>\n",
       "      <td>13</td>\n",
       "    </tr>\n",
       "  </tbody>\n",
       "</table>\n",
       "</div>"
      ],
      "text/plain": [
       "     0   1   2   3\n",
       "0   25  29  19  37\n",
       "1   38  16  17  22\n",
       "2   14  10  12  37\n",
       "3   24  27  17  22\n",
       "4   39  15  33  23\n",
       "5   26  32  38  26\n",
       "6   19  26  13  13\n",
       "7   20  18  26  16\n",
       "8   14  22  28  32\n",
       "9   13  27  16  16\n",
       "10  30  33  27  35\n",
       "11  15  12  10  30\n",
       "12  30  25  24  36\n",
       "13  29  24  18  26\n",
       "14  34  26  21  13"
      ]
     },
     "execution_count": 9,
     "metadata": {},
     "output_type": "execute_result"
    }
   ],
   "source": [
    "df = pd.DataFrame(np.random.randint(10, 40, 60).reshape(-1, 4))\n",
    "df"
   ]
  },
  {
   "cell_type": "code",
   "execution_count": 10,
   "metadata": {},
   "outputs": [
    {
     "name": "stdout",
     "output_type": "stream",
     "text": [
      "     0   1   2   3\n",
      "0   25  29  19  37\n",
      "1   38  16  17  22\n",
      "3   24  27  17  22\n",
      "4   39  15  33  23\n",
      "5   26  32  38  26\n",
      "10  30  33  27  35\n",
      "12  30  25  24  36\n",
      "13  29  24  18  26\n",
      "14  34  26  21  13\n"
     ]
    }
   ],
   "source": [
    "print(df[df.iloc[:,0]>20])"
   ]
  },
  {
   "cell_type": "code",
   "execution_count": 11,
   "metadata": {},
   "outputs": [
    {
     "name": "stdout",
     "output_type": "stream",
     "text": [
      "     0   1   2   3\n",
      "0   25  29  19  37\n",
      "1   38  16  17  22\n",
      "3   24  27  17  22\n",
      "4   39  15  33  23\n",
      "5   26  32  38  26\n",
      "10  30  33  27  35\n",
      "12  30  25  24  36\n",
      "13  29  24  18  26\n",
      "14  34  26  21  13\n"
     ]
    }
   ],
   "source": [
    "print(df[df.iloc[:,0]+ df.iloc[:,1] > 50] )\n"
   ]
  },
  {
   "cell_type": "code",
   "execution_count": 12,
   "metadata": {},
   "outputs": [
    {
     "name": "stdout",
     "output_type": "stream",
     "text": [
      "     0   1   2   3\n",
      "0   25  29  19  37\n",
      "2   14  10  12  37\n",
      "3   24  27  17  22\n",
      "5   26  32  38  26\n",
      "6   19  26  13  13\n",
      "7   20  18  26  16\n",
      "8   14  22  28  32\n",
      "9   13  27  16  16\n",
      "10  30  33  27  35\n",
      "11  15  12  10  30\n",
      "13  29  24  18  26\n"
     ]
    }
   ],
   "source": [
    "print(df[(df.iloc[:,0] < 30) | (df.iloc[:,1] > 30)] )"
   ]
  },
  {
   "cell_type": "code",
   "execution_count": 13,
   "metadata": {},
   "outputs": [
    {
     "name": "stdout",
     "output_type": "stream",
     "text": [
      "     0   1   2   3\n",
      "0   25  29  19  37\n",
      "4   39  15  33  23\n",
      "5   26  32  38  26\n",
      "10  30  33  27  35\n",
      "12  30  25  24  36\n"
     ]
    }
   ],
   "source": [
    "print(df[df.sum(axis=1)>100])"
   ]
  }
 ],
 "metadata": {
  "colab": {
   "name": "Day_023_HW.ipynb",
   "provenance": []
  },
  "kernelspec": {
   "display_name": "Python 3",
   "language": "python",
   "name": "python3"
  },
  "language_info": {
   "codemirror_mode": {
    "name": "ipython",
    "version": 3
   },
   "file_extension": ".py",
   "mimetype": "text/x-python",
   "name": "python",
   "nbconvert_exporter": "python",
   "pygments_lexer": "ipython3",
   "version": "3.10.11"
  }
 },
 "nbformat": 4,
 "nbformat_minor": 1
}
