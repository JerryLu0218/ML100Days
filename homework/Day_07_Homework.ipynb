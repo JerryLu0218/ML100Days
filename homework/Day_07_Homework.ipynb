{
 "cells": [
  {
   "cell_type": "markdown",
   "metadata": {
    "colab_type": "text",
    "id": "P6xk2_jLsvFF"
   },
   "source": [
    "# [作業目標]\n",
    "\n",
    "1. 請比較對一個 100 x 100 * 100 的陣列，使用不同方法對每一個元素 +1 的時間比較。\n",
    "\n",
    "2. 如何從一個陣列中，找出出現頻率最高的數值與位置？\n",
    "\n",
    "3. 如何利用 list(...) 實現 a.tolist() 的效果？試著用程式實作。\n"
   ]
  },
  {
   "cell_type": "markdown",
   "metadata": {
    "colab_type": "text",
    "id": "uXGll28asvFS"
   },
   "source": [
    "# 作業 "
   ]
  },
  {
   "cell_type": "markdown",
   "metadata": {},
   "source": [
    "### 1. 請比較對一個 1000 x 100 x 100 的陣列，使用不同方法對每一個元素 +1 的時間比較。\n",
    "\n",
    "\n"
   ]
  },
  {
   "cell_type": "code",
   "execution_count": 2,
   "metadata": {},
   "outputs": [],
   "source": [
    "# 記得先 Import 正確的套件\n",
    "\n",
    "import numpy as np"
   ]
  },
  {
   "cell_type": "code",
   "execution_count": 61,
   "metadata": {
    "colab": {},
    "colab_type": "code",
    "id": "5QrYoyNWsvFS"
   },
   "outputs": [],
   "source": [
    "Z = np.random.randint(0, 10, 1000000).reshape(100, 100, 100)\n"
   ]
  },
  {
   "cell_type": "code",
   "execution_count": 68,
   "metadata": {},
   "outputs": [
    {
     "name": "stdout",
     "output_type": "stream",
     "text": [
      "22.9 ns ± 7 ns per loop (mean ± std. dev. of 7 runs, 10 loops each)\n"
     ]
    }
   ],
   "source": [
    "# 方法一：成功且最快\n",
    "%timeit -n 10 a = 1\n",
    "Z = Z+1\n"
   ]
  },
  {
   "cell_type": "code",
   "execution_count": 69,
   "metadata": {},
   "outputs": [
    {
     "name": "stdout",
     "output_type": "stream",
     "text": [
      "50 ns ± 16.9 ns per loop (mean ± std. dev. of 7 runs, 10 loops each)\n"
     ]
    }
   ],
   "source": [
    "# 方法二：失敗，多次對陣列+1，且最慢\n",
    "%timeit -n 10 a = 1\n",
    "for i in Z:\n",
    "    Z+=1\n"
   ]
  },
  {
   "cell_type": "code",
   "execution_count": null,
   "metadata": {},
   "outputs": [
    {
     "name": "stdout",
     "output_type": "stream",
     "text": [
      "22.9 ns ± 7 ns per loop (mean ± std. dev. of 7 runs, 10 loops each)\n"
     ]
    }
   ],
   "source": [
    "# 方法三：逐行操作\n",
    "%timeit -n 10 a = 1\n",
    "for i in range(len(Z)):\n",
    "    Z[i]+=1\n"
   ]
  },
  {
   "cell_type": "code",
   "execution_count": null,
   "metadata": {},
   "outputs": [
    {
     "name": "stdout",
     "output_type": "stream",
     "text": [
      "22.9 ns ± 4.52 ns per loop (mean ± std. dev. of 7 runs, 10 loops each)\n"
     ]
    }
   ],
   "source": [
    "# 方法四：不確定，因為只對臨時變數操作，原始陣列不變。\n",
    "%timeit -n 10 a = 1\n",
    "for i in Z.flat:\n",
    "    i+=1"
   ]
  },
  {
   "cell_type": "code",
   "execution_count": null,
   "metadata": {},
   "outputs": [
    {
     "name": "stdout",
     "output_type": "stream",
     "text": [
      "22.9 ns ± 7 ns per loop (mean ± std. dev. of 7 runs, 10 loops each)\n"
     ]
    }
   ],
   "source": [
    "# 方法五：不確定，因為逐元素操作，且原始陣列不變。\n",
    "%timeit -n 10 a = 1\n",
    "for i in np.nditer(Z):\n",
    "    i = i+1"
   ]
  },
  {
   "cell_type": "markdown",
   "metadata": {},
   "source": [
    "### 2. 如何從一個陣列中，找出出現頻率最高的數值與位置？\n"
   ]
  },
  {
   "cell_type": "code",
   "execution_count": 89,
   "metadata": {
    "colab": {},
    "colab_type": "code",
    "id": "e1gVI0tvsvFY"
   },
   "outputs": [
    {
     "name": "stdout",
     "output_type": "stream",
     "text": [
      "[1 0 6 3 5 8 4 7 3 5 1 8 8 3 9 2 1 5 8 1 0 4 5 5 6 9 7 3 3 7 3 6 1 4 3 0 6\n",
      " 1 6 2 7 9 2 5 7 1 0 8 9 4]\n"
     ]
    }
   ],
   "source": [
    "\n",
    "Z = np.random.randint(0,10,50)\n",
    "print(Z)\n"
   ]
  },
  {
   "cell_type": "code",
   "execution_count": 98,
   "metadata": {},
   "outputs": [
    {
     "name": "stdout",
     "output_type": "stream",
     "text": [
      "1\n",
      "(array([ 0, 10, 16, 19, 32, 37, 45], dtype=int64),)\n"
     ]
    }
   ],
   "source": [
    "# 使用bincount（適用於整數陣列）\n",
    "# np.bincount(arr) 計算每個整數出現的次數。\n",
    "# .argmax() 返回出現次數最多的元素的索引。\n",
    "\n",
    "Z_bincount = np.bincount(Z).argmax()\n",
    "print(Z_bincount)\n",
    "print(np.where(Z==Z_bincount))\n"
   ]
  },
  {
   "cell_type": "markdown",
   "metadata": {},
   "source": [
    "### 3. 如何利用 list(...) 實現 a.tolist() 的效果？試著用程式實作。\n"
   ]
  },
  {
   "cell_type": "code",
   "execution_count": 3,
   "metadata": {},
   "outputs": [
    {
     "name": "stdout",
     "output_type": "stream",
     "text": [
      "[8, 9, 0, 7, 9, 3]\n",
      "[8, 9, 0, 7, 9, 3]\n"
     ]
    }
   ],
   "source": [
    "# 一維陣列可以直接展開\n",
    "a = np.random.randint(10, size=6) \n",
    "\n",
    "print(a.tolist())\n",
    "print(list(a))\n",
    "\n",
    "\n",
    "\n"
   ]
  },
  {
   "cell_type": "code",
   "execution_count": 22,
   "metadata": {},
   "outputs": [
    {
     "name": "stdout",
     "output_type": "stream",
     "text": [
      "[[9, 0, 3, 4], [9, 3, 2, 3], [1, 1, 6, 0]]\n",
      "[[9, 0, 3, 4], [9, 3, 2, 3], [1, 1, 6, 0]]\n",
      "[array([9, 0, 3, 4]), array([9, 3, 2, 3]), array([1, 1, 6, 0])]\n"
     ]
    }
   ],
   "source": [
    "b = np.random.randint(10, size=(3,4)) \n",
    "\n",
    "def to_list(arr):\n",
    "    if isinstance(arr, np.ndarray):  # 如果是 NumPy 陣列\n",
    "        return [to_list(subarr) for subarr in arr]  # 遞迴處理每一層\n",
    "    else:\n",
    "        return arr  # 如果是純數值，直接返回\n",
    "\n",
    "print(to_list(b))\n",
    "print(b.tolist())\n",
    "print(list(b))\n",
    "\n",
    "\n",
    "\n",
    "\n"
   ]
  },
  {
   "cell_type": "code",
   "execution_count": null,
   "metadata": {},
   "outputs": [
    {
     "name": "stdout",
     "output_type": "stream",
     "text": [
      "[[[7, 4], [8, 0], [3, 8]], [[4, 3], [4, 0], [9, 1]]]\n",
      "[[[7, 4], [8, 0], [3, 8]], [[4, 3], [4, 0], [9, 1]]]\n",
      "[array([[7, 4],\n",
      "       [8, 0],\n",
      "       [3, 8]]), array([[4, 3],\n",
      "       [4, 0],\n",
      "       [9, 1]])]\n"
     ]
    }
   ],
   "source": [
    "c = np.random.randint(10, size=(2,3,2)) \n",
    "\n",
    "print(to_list(c))\n",
    "print(c.tolist())\n",
    "print(list(c))\n"
   ]
  }
 ],
 "metadata": {
  "colab": {
   "name": "Day_023_HW.ipynb",
   "provenance": []
  },
  "kernelspec": {
   "display_name": "Python 3",
   "language": "python",
   "name": "python3"
  },
  "language_info": {
   "codemirror_mode": {
    "name": "ipython",
    "version": 3
   },
   "file_extension": ".py",
   "mimetype": "text/x-python",
   "name": "python",
   "nbconvert_exporter": "python",
   "pygments_lexer": "ipython3",
   "version": "3.10.11"
  }
 },
 "nbformat": 4,
 "nbformat_minor": 1
}
