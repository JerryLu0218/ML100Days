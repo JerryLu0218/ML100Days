{
 "cells": [
  {
   "cell_type": "markdown",
   "metadata": {
    "id": "P6xk2_jLsvFF"
   },
   "source": [
    "# [作業目標]\n",
    "\n",
    "1. [簡答題] 請問下列這三種方法有什麼不同？\n",
    "\n",
    "```\n",
    "print(a.sum()) \n",
    "print(np.sum(a))\n",
    "print(sum(a)) \n",
    "```\n",
    "\n",
    "2. 請對一個 5x5 的隨機矩陣作正規化的操作。\n",
    "\n",
    "3. 請建立一個長度等於 10 的正整數向量，並且將其中的最大值改成 -1。\n"
   ]
  },
  {
   "cell_type": "markdown",
   "metadata": {
    "id": "uXGll28asvFS"
   },
   "source": [
    "# 作業 "
   ]
  },
  {
   "cell_type": "markdown",
   "metadata": {
    "id": "lbz8VjL6jxyL"
   },
   "source": [
    "### 1. [簡答題] 請問下列這三種方法有什麼不同？\n",
    "\n",
    "```\n",
    "print(a.sum()) \n",
    "print(np.sum(a))\n",
    "print(sum(a)) \n",
    "```\n",
    "\n"
   ]
  },
  {
   "cell_type": "code",
   "execution_count": null,
   "metadata": {
    "id": "5QrYoyNWsvFS",
    "outputId": "e9e14d36-38ce-4ce5-edf2-3c7b129db580"
   },
   "outputs": [
    {
     "name": "stdout",
     "output_type": "stream",
     "text": [
      "15\n",
      "15\n",
      "15\n"
     ]
    }
   ],
   "source": [
    "import numpy as np\n",
    "a = np.arange(6)\n",
    "\n",
    "print(a.sum())      # 這是 NumPy 陣列物件的方法，直接作用於陣列 a\n",
    "print(np.sum(a))    # 這是 NumPy 模組中的函數，作用於傳入的數據\n",
    "print(sum(a))       # 這是 Python 的內建函數，適用於任何可迭代對象"
   ]
  },
  {
   "cell_type": "markdown",
   "metadata": {
    "id": "vVrjBXabjxyS"
   },
   "source": [
    "### 2. 請對一個 5x5 的隨機矩陣作正規化的操作。\n"
   ]
  },
  {
   "cell_type": "code",
   "execution_count": 3,
   "metadata": {
    "id": "ffDRVHs9jxyS"
   },
   "outputs": [],
   "source": [
    "# 記得先 Import 正確的套件\n",
    "import numpy as np"
   ]
  },
  {
   "cell_type": "code",
   "execution_count": null,
   "metadata": {
    "id": "e1gVI0tvsvFY",
    "outputId": "43bf676f-fd04-4edf-c062-b5fe7fe1f4bf"
   },
   "outputs": [
    {
     "name": "stdout",
     "output_type": "stream",
     "text": [
      "[[0.03339993 0.         0.13531678 0.92571314 0.93220686]\n",
      " [0.33043627 0.49440318 0.64696294 0.55699507 0.47786016]\n",
      " [0.24499343 0.23113569 0.45249647 0.63284842 0.29804223]\n",
      " [0.37615749 1.         0.04467689 0.17879727 0.17913913]\n",
      " [0.45037433 0.76211852 0.62412691 0.4104343  0.04420048]]\n"
     ]
    }
   ],
   "source": [
    "# 最大值-最小值正規化：將矩陣中的數值縮放到 [0, 1] 或其他指定範圍\n",
    "A = np.random.random((5, 5))\n",
    "A_normalized = (A - A.min()) / (A.max()-A.min())\n",
    "print(A_normalized)\n"
   ]
  },
  {
   "cell_type": "markdown",
   "metadata": {
    "id": "Ptc3ZrNQjxyU"
   },
   "source": [
    "### 3. 請建立一個長度等於 10 的正整數向量，並且將其中的最大值改成 -1。\n"
   ]
  },
  {
   "cell_type": "code",
   "execution_count": null,
   "metadata": {
    "id": "Yu1kbLxojxyU",
    "outputId": "d323e754-178a-46ae-e15e-98275ae220dd"
   },
   "outputs": [
    {
     "name": "stdout",
     "output_type": "stream",
     "text": [
      "[ 0.10250437  0.10378951  0.27183495  0.32203297  0.46127534  0.47651399\n",
      "  0.47944267  0.54345848  0.61459525 -1.        ]\n"
     ]
    }
   ],
   "source": [
    "# 方法一：想到什麼就用什麼，但發現這個方法將順序調動了...\n",
    "B = np.random.random(10)\n",
    "B_sorted = np.sort(B)\n",
    "B_sorted[9] = (-1)\n",
    "print(B_sorted)"
   ]
  },
  {
   "cell_type": "code",
   "execution_count": 81,
   "metadata": {},
   "outputs": [
    {
     "name": "stdout",
     "output_type": "stream",
     "text": [
      "[ 0.941713    0.68096135  0.87369522  0.32382981  0.90162532  0.32376385\n",
      "  0.33540708  0.78094206  0.68691592 -1.        ]\n"
     ]
    }
   ],
   "source": [
    "# 方法二：使用np.argmax()\n",
    "C = np.random.random(10)\n",
    "# 找到最大值的索引\n",
    "max_index = np.argmax(C)\n",
    "\n",
    "# 將最大值改為 -1\n",
    "C[max_index] = -1\n",
    "print(C)"
   ]
  },
  {
   "cell_type": "code",
   "execution_count": null,
   "metadata": {
    "id": "IoPlZnZgjxyV"
   },
   "outputs": [],
   "source": []
  },
  {
   "cell_type": "code",
   "execution_count": null,
   "metadata": {
    "id": "V5bMfGR_jxyV"
   },
   "outputs": [],
   "source": []
  }
 ],
 "metadata": {
  "colab": {
   "name": "06 Homework_維元.ipynb",
   "provenance": []
  },
  "kernelspec": {
   "display_name": "Python 3",
   "language": "python",
   "name": "python3"
  },
  "language_info": {
   "codemirror_mode": {
    "name": "ipython",
    "version": 3
   },
   "file_extension": ".py",
   "mimetype": "text/x-python",
   "name": "python",
   "nbconvert_exporter": "python",
   "pygments_lexer": "ipython3",
   "version": "3.10.11"
  }
 },
 "nbformat": 4,
 "nbformat_minor": 0
}
