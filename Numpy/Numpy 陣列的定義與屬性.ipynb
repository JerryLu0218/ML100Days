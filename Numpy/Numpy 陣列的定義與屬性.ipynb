{
 "cells": [
  {
   "cell_type": "code",
   "execution_count": 2,
   "metadata": {},
   "outputs": [],
   "source": [
    "import numpy as np"
   ]
  },
  {
   "cell_type": "code",
   "execution_count": 3,
   "metadata": {},
   "outputs": [
    {
     "name": "stdout",
     "output_type": "stream",
     "text": [
      "<module 'numpy' from 'c:\\\\Users\\\\jerry\\\\AppData\\\\Local\\\\Programs\\\\Python\\\\Python310\\\\lib\\\\site-packages\\\\numpy\\\\__init__.py'>\n",
      "1.26.4\n"
     ]
    }
   ],
   "source": [
    "# 檢查是否有安裝以及版本號\n",
    "print(np) \n",
    "print(np.__version__) "
   ]
  },
  {
   "cell_type": "code",
   "execution_count": 8,
   "metadata": {},
   "outputs": [
    {
     "name": "stdout",
     "output_type": "stream",
     "text": [
      "[[ 0  1  2  3  4]\n",
      " [ 5  6  7  8  9]\n",
      " [10 11 12 13 14]]\n",
      "<class 'numpy.ndarray'>\n"
     ]
    }
   ],
   "source": [
    "a = np.arange(15).reshape(3,5)\n",
    "print(a)        # 印出陣列\n",
    "print(type(a))  # 確認型態 "
   ]
  },
  {
   "cell_type": "code",
   "execution_count": 9,
   "metadata": {},
   "outputs": [
    {
     "name": "stdout",
     "output_type": "stream",
     "text": [
      "ndim： 2\n",
      "shape： (3, 5)\n",
      "size： 15\n",
      "dtype： int32\n",
      "itemsize： 4\n",
      "data： <memory at 0x00000192DF8A5560>\n",
      "sum： 105\n"
     ]
    }
   ],
   "source": [
    "print('ndim：',a.ndim)      # 確認維度\n",
    "print('shape：',a.shape)    # 維度大小 \n",
    "print('size：',a.size)      # 幾個元素\n",
    "print('dtype：',a.dtype)    # 資料型態\n",
    "print('itemsize：',a.itemsize)  # 每個元素佔的記憶體空間\n",
    "print('data：',a.data)      # 記憶體位置\n",
    "print('sum：',a.sum())      # 所有元素總和"
   ]
  },
  {
   "cell_type": "code",
   "execution_count": 9,
   "metadata": {},
   "outputs": [
    {
     "name": "stdout",
     "output_type": "stream",
     "text": [
      "list(a):  [array([0, 1, 2, 3, 4]), array([5, 6, 7, 8, 9]), array([10, 11, 12, 13, 14])]\n",
      "tolist():  [[0, 1, 2, 3, 4], [5, 6, 7, 8, 9], [10, 11, 12, 13, 14]]\n"
     ]
    }
   ],
   "source": [
    "print('list(a): ', list(a))\n",
    "print('tolist(): ', a.tolist())"
   ]
  },
  {
   "cell_type": "code",
   "execution_count": 10,
   "metadata": {},
   "outputs": [
    {
     "name": "stdout",
     "output_type": "stream",
     "text": [
      "<class 'numpy.ndarray'>\n",
      "<class 'list'>\n"
     ]
    }
   ],
   "source": [
    "print(type(list(a)[0]))\n",
    "print(type(a.tolist()[0]))"
   ]
  }
 ],
 "metadata": {
  "kernelspec": {
   "display_name": "Python 3",
   "language": "python",
   "name": "python3"
  },
  "language_info": {
   "codemirror_mode": {
    "name": "ipython",
    "version": 3
   },
   "file_extension": ".py",
   "mimetype": "text/x-python",
   "name": "python",
   "nbconvert_exporter": "python",
   "pygments_lexer": "ipython3",
   "version": "3.10.11"
  }
 },
 "nbformat": 4,
 "nbformat_minor": 2
}
